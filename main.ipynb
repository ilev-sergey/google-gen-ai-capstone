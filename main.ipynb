{
 "cells": [
  {
   "cell_type": "markdown",
   "id": "214babae",
   "metadata": {
    "papermill": {
     "duration": 0.004578,
     "end_time": "2025-04-19T18:18:19.555401",
     "exception": false,
     "start_time": "2025-04-19T18:18:19.550823",
     "status": "completed"
    },
    "tags": []
   },
   "source": [
    "# Playbill AI"
   ]
  },
  {
   "cell_type": "markdown",
   "id": "6120cc7d",
   "metadata": {
    "papermill": {
     "duration": 0.00496,
     "end_time": "2025-04-19T18:18:19.563939",
     "exception": false,
     "start_time": "2025-04-19T18:18:19.558979",
     "status": "completed"
    },
    "tags": []
   },
   "source": [
    "# Use Case\n",
    "\n",
    "Gen AI model (Gemini 2.0 flash) is used as a part of the service for aggregation of theater playbills.\n",
    "\n",
    "## Problem\n",
    "\n",
    "There are a lot of theaters in Moscow and tracking premieres in all of them is a unpleasant task. Despite there are aggregation services that collect this info, they are mostly uncomfortable for users as they don't have different filters, such as choosing location, specific play or stage director. Moreover, crawling through a variety of filters is also time-consuming and discouraging for users.\n",
    "\n",
    "## Solution\n",
    "\n",
    "The provided solution allows to transform arbitrary user input into an appropriate SQL-query and then return the response basing on the data in the database. Currently only text is supported, but it's possible to extend it to voice input as well.\n",
    "\n",
    "## Example\n",
    "\n",
    "E.g. user asks: \"Plays for the coming month by Shakespeare, Williams or Chekhov\" that is transformed into SQL-query that is passed into database. The result is \"There are no plays by Shakespeare, Williams, or Chekhov in the coming month\" because there aren't any performances by these authors in the local database. See more examples below. \n",
    "\n",
    "\n",
    "# Gen AI Capabilities\n",
    "\n",
    "The project combines such AI capabilities as\n",
    "- Structured output (SQL-query)\n",
    "- Few-show prompting\n",
    "- Function Calling\n",
    "- Grounding (for showing reviews)\n",
    "\n",
    "# Future\n",
    "\n",
    "The developed solution will be used in conjunction with developing API for theatres (link will be provided later) as a part of aggregation service deployed both as a web-application and as telegram bot"
   ]
  },
  {
   "cell_type": "markdown",
   "id": "9a5bef48",
   "metadata": {
    "papermill": {
     "duration": 0.003161,
     "end_time": "2025-04-19T18:18:19.570888",
     "exception": false,
     "start_time": "2025-04-19T18:18:19.567727",
     "status": "completed"
    },
    "tags": []
   },
   "source": [
    "# Implementation\n",
    "## Setup\n",
    "\n",
    "Start by installing and importing the Python SDK."
   ]
  },
  {
   "cell_type": "code",
   "execution_count": 1,
   "id": "3003b993",
   "metadata": {
    "_cell_guid": "b1076dfc-b9ad-4769-8c92-a6c4dae69d19",
    "_uuid": "8f2839f25d086af736a60e9eeb907d3b93b6e0e5",
    "execution": {
     "iopub.execute_input": "2025-04-19T18:18:19.578898Z",
     "iopub.status.busy": "2025-04-19T18:18:19.578517Z",
     "iopub.status.idle": "2025-04-19T18:18:28.970888Z",
     "shell.execute_reply": "2025-04-19T18:18:28.969537Z"
    },
    "papermill": {
     "duration": 9.398388,
     "end_time": "2025-04-19T18:18:28.972550",
     "exception": false,
     "start_time": "2025-04-19T18:18:19.574162",
     "status": "completed"
    },
    "tags": []
   },
   "outputs": [
    {
     "name": "stdout",
     "output_type": "stream",
     "text": [
      "\u001b[2K   \u001b[90m━━━━━━━━━━━━━━━━━━━━━━━━━━━━━━━━━━━━━━━━\u001b[0m \u001b[32m144.7/144.7 kB\u001b[0m \u001b[31m5.7 MB/s\u001b[0m eta \u001b[36m0:00:00\u001b[0m\r\n",
      "\u001b[2K   \u001b[90m━━━━━━━━━━━━━━━━━━━━━━━━━━━━━━━━━━━━━━━━\u001b[0m \u001b[32m100.9/100.9 kB\u001b[0m \u001b[31m3.8 MB/s\u001b[0m eta \u001b[36m0:00:00\u001b[0m\r\n",
      "\u001b[?25h\u001b[31mERROR: pip's dependency resolver does not currently take into account all the packages that are installed. This behaviour is the source of the following dependency conflicts.\r\n",
      "jupyterlab-lsp 3.10.2 requires jupyterlab<4.0.0a0,>=3.1.0, which is not installed.\u001b[0m\u001b[31m\r\n",
      "\u001b[0m"
     ]
    }
   ],
   "source": [
    "!pip uninstall -qqy jupyterlab  # Remove unused conflicting packages\n",
    "!pip install -U -q \"google-genai==1.7.0\""
   ]
  },
  {
   "cell_type": "markdown",
   "id": "c865c396",
   "metadata": {
    "papermill": {
     "duration": 0.003375,
     "end_time": "2025-04-19T18:18:28.979842",
     "exception": false,
     "start_time": "2025-04-19T18:18:28.976467",
     "status": "completed"
    },
    "tags": []
   },
   "source": [
    "### Set up your API key\n",
    "\n",
    "To run the following cell, your API key must be stored it in a [Kaggle secret](https://www.kaggle.com/discussions/product-feedback/114053) named `GOOGLE_API_KEY`.\n",
    "\n",
    "If you don't already have an API key, you can grab one from [AI Studio](https://aistudio.google.com/app/apikey). You can find [detailed instructions in the docs](https://ai.google.dev/gemini-api/docs/api-key).\n",
    "\n",
    "To make the key available through Kaggle secrets, choose `Secrets` from the `Add-ons` menu and follow the instructions to add your key or enable it for this notebook."
   ]
  },
  {
   "cell_type": "code",
   "execution_count": 2,
   "id": "3ab24b83",
   "metadata": {
    "execution": {
     "iopub.execute_input": "2025-04-19T18:18:28.988993Z",
     "iopub.status.busy": "2025-04-19T18:18:28.988136Z",
     "iopub.status.idle": "2025-04-19T18:18:29.172008Z",
     "shell.execute_reply": "2025-04-19T18:18:29.170448Z"
    },
    "papermill": {
     "duration": 0.190339,
     "end_time": "2025-04-19T18:18:29.173815",
     "exception": false,
     "start_time": "2025-04-19T18:18:28.983476",
     "status": "completed"
    },
    "tags": []
   },
   "outputs": [],
   "source": [
    "from kaggle_secrets import UserSecretsClient\n",
    "\n",
    "GOOGLE_API_KEY = UserSecretsClient().get_secret(\"GOOGLE_API_KEY\")"
   ]
  },
  {
   "cell_type": "markdown",
   "id": "e703b7c1",
   "metadata": {
    "papermill": {
     "duration": 0.004284,
     "end_time": "2025-04-19T18:18:29.182550",
     "exception": false,
     "start_time": "2025-04-19T18:18:29.178266",
     "status": "completed"
    },
    "tags": []
   },
   "source": [
    "If you received an error response along the lines of `No user secrets exist for kernel id ...`, then you need to add your API key via `Add-ons`, `Secrets` **and** enable it.\n",
    "\n",
    "![Screenshot of the checkbox to enable GOOGLE_API_KEY secret](https://storage.googleapis.com/kaggle-media/Images/5gdai_sc_3.png)"
   ]
  },
  {
   "cell_type": "markdown",
   "id": "6c3b7677",
   "metadata": {
    "papermill": {
     "duration": 0.004017,
     "end_time": "2025-04-19T18:18:29.190632",
     "exception": false,
     "start_time": "2025-04-19T18:18:29.186615",
     "status": "completed"
    },
    "tags": []
   },
   "source": [
    "### Automated retry"
   ]
  },
  {
   "cell_type": "code",
   "execution_count": 3,
   "id": "68751008",
   "metadata": {
    "execution": {
     "iopub.execute_input": "2025-04-19T18:18:29.200449Z",
     "iopub.status.busy": "2025-04-19T18:18:29.200020Z",
     "iopub.status.idle": "2025-04-19T18:18:30.799546Z",
     "shell.execute_reply": "2025-04-19T18:18:30.798753Z"
    },
    "papermill": {
     "duration": 1.606299,
     "end_time": "2025-04-19T18:18:30.801143",
     "exception": false,
     "start_time": "2025-04-19T18:18:29.194844",
     "status": "completed"
    },
    "tags": []
   },
   "outputs": [],
   "source": [
    "# Define a retry policy. The model might make multiple consecutive calls automatically\n",
    "# for a complex query, this ensures the client retries if it hits quota limits.\n",
    "from google.api_core import retry\n",
    "from google import genai\n",
    "from google.genai import types\n",
    "\n",
    "is_retriable = lambda e: (isinstance(e, genai.errors.APIError) and e.code in {429, 503})\n",
    "\n",
    "if not hasattr(genai.models.Models.generate_content, '__wrapped__'):\n",
    "  genai.models.Models.generate_content = retry.Retry(\n",
    "      predicate=is_retriable)(genai.models.Models.generate_content)"
   ]
  },
  {
   "cell_type": "markdown",
   "id": "24f687a8",
   "metadata": {
    "papermill": {
     "duration": 0.004226,
     "end_time": "2025-04-19T18:18:30.809812",
     "exception": false,
     "start_time": "2025-04-19T18:18:30.805586",
     "status": "completed"
    },
    "tags": []
   },
   "source": [
    "## Create a local database\n",
    "\n",
    "For this minimal example, we'll create a local SQLite database and add some synthetic data to have something to query.\n",
    "\n",
    "Load the `sql` IPython extension so you can interact with the database using magic commands (the `%` instructions) to create a new, empty SQLite database."
   ]
  },
  {
   "cell_type": "code",
   "execution_count": 4,
   "id": "f37d8555",
   "metadata": {
    "execution": {
     "iopub.execute_input": "2025-04-19T18:18:30.818499Z",
     "iopub.status.busy": "2025-04-19T18:18:30.818051Z",
     "iopub.status.idle": "2025-04-19T18:18:33.731296Z",
     "shell.execute_reply": "2025-04-19T18:18:33.730218Z"
    },
    "papermill": {
     "duration": 2.91973,
     "end_time": "2025-04-19T18:18:33.733285",
     "exception": false,
     "start_time": "2025-04-19T18:18:30.813555",
     "status": "completed"
    },
    "tags": []
   },
   "outputs": [],
   "source": [
    "TEST_MODE = False  # Set to False if you want to persist\n",
    "\n",
    "%load_ext sql\n",
    "if TEST_MODE:\n",
    "    %sql sqlite:///:memory:\n",
    "else:\n",
    "    %sql sqlite:///sample.db"
   ]
  },
  {
   "cell_type": "markdown",
   "id": "d23c533c",
   "metadata": {
    "papermill": {
     "duration": 0.003004,
     "end_time": "2025-04-19T18:18:33.739972",
     "exception": false,
     "start_time": "2025-04-19T18:18:33.736968",
     "status": "completed"
    },
    "tags": []
   },
   "source": [
    "Create the tables and insert some data (later it'll be provided by service via API)."
   ]
  },
  {
   "cell_type": "code",
   "execution_count": 5,
   "id": "5da8fd44",
   "metadata": {
    "execution": {
     "iopub.execute_input": "2025-04-19T18:18:33.750152Z",
     "iopub.status.busy": "2025-04-19T18:18:33.748728Z",
     "iopub.status.idle": "2025-04-19T18:18:33.756086Z",
     "shell.execute_reply": "2025-04-19T18:18:33.754634Z"
    },
    "papermill": {
     "duration": 0.01465,
     "end_time": "2025-04-19T18:18:33.757887",
     "exception": false,
     "start_time": "2025-04-19T18:18:33.743237",
     "status": "completed"
    },
    "tags": []
   },
   "outputs": [],
   "source": [
    "import sqlite3\n",
    "\n",
    "if TEST_MODE:\n",
    "    db_conn = sqlite3.connect(':memory:')  # In-memory for testing\n",
    "else:\n",
    "    db_file = \"sample.db\"\n",
    "    db_conn = sqlite3.connect(db_file)     # Persistent on disk"
   ]
  },
  {
   "cell_type": "code",
   "execution_count": 6,
   "id": "1653c6a7",
   "metadata": {
    "execution": {
     "iopub.execute_input": "2025-04-19T18:18:33.769153Z",
     "iopub.status.busy": "2025-04-19T18:18:33.768183Z",
     "iopub.status.idle": "2025-04-19T18:18:33.836152Z",
     "shell.execute_reply": "2025-04-19T18:18:33.834701Z"
    },
    "papermill": {
     "duration": 0.075503,
     "end_time": "2025-04-19T18:18:33.837888",
     "exception": false,
     "start_time": "2025-04-19T18:18:33.762385",
     "status": "completed"
    },
    "tags": []
   },
   "outputs": [
    {
     "name": "stdout",
     "output_type": "stream",
     "text": [
      " * sqlite:///sample.db\n",
      "Done.\n",
      "Done.\n",
      "Done.\n"
     ]
    },
    {
     "data": {
      "text/plain": [
       "[]"
      ]
     },
     "execution_count": 6,
     "metadata": {},
     "output_type": "execute_result"
    }
   ],
   "source": [
    "%%sql\n",
    "CREATE TABLE theaters (\n",
    "    theater_id INTEGER PRIMARY KEY AUTOINCREMENT,\n",
    "    name TEXT NOT NULL,\n",
    "    acronym TEXT\n",
    ");\n",
    "\n",
    "CREATE TABLE stages (\n",
    "    stage_id INTEGER PRIMARY KEY AUTOINCREMENT,\n",
    "    name TEXT NOT NULL,\n",
    "    address TEXT,\n",
    "    theater_id INTEGER,\n",
    "    FOREIGN KEY (theater_id) REFERENCES theaters(theater_id)\n",
    ");\n",
    "\n",
    "CREATE TABLE performances (\n",
    "    performance_id INTEGER PRIMARY KEY AUTOINCREMENT,\n",
    "    title TEXT NOT NULL,\n",
    "    stage_id INTEGER,\n",
    "    datetime TEXT NOT NULL,\n",
    "    director TEXT,\n",
    "    author TEXT,\n",
    "    FOREIGN KEY (stage_id) REFERENCES stages(stage_id)\n",
    ");\n"
   ]
  },
  {
   "cell_type": "code",
   "execution_count": 7,
   "id": "15991a8a",
   "metadata": {
    "execution": {
     "iopub.execute_input": "2025-04-19T18:18:33.848583Z",
     "iopub.status.busy": "2025-04-19T18:18:33.848280Z",
     "iopub.status.idle": "2025-04-19T18:18:33.895413Z",
     "shell.execute_reply": "2025-04-19T18:18:33.894484Z"
    },
    "papermill": {
     "duration": 0.05359,
     "end_time": "2025-04-19T18:18:33.896762",
     "exception": false,
     "start_time": "2025-04-19T18:18:33.843172",
     "status": "completed"
    },
    "tags": []
   },
   "outputs": [
    {
     "name": "stdout",
     "output_type": "stream",
     "text": [
      " * sqlite:///sample.db\n",
      "3 rows affected.\n",
      "6 rows affected.\n",
      "6 rows affected.\n"
     ]
    },
    {
     "data": {
      "text/plain": [
       "[]"
      ]
     },
     "execution_count": 7,
     "metadata": {},
     "output_type": "execute_result"
    }
   ],
   "source": [
    "%%sql\n",
    "INSERT INTO theaters (name, acronym) VALUES\n",
    "  ('Российский академический молодежный театр', 'РАМТ'),\n",
    "  ('Мастерская Петра Фоменко', 'Фоменко'),\n",
    "  ('Театр Сатирикон имени Аркадия Райкина', 'Сатирикон');\n",
    "\n",
    "INSERT INTO stages (name, address, theater_id) VALUES\n",
    "  ('Большая сцена', 'Театральная пл., д. 2, Москва', 1),\n",
    "  ('Маленькая сцена', 'Театральная пл., д. 2, Москва', 1),\n",
    "  ('Новая сцена', 'Кутузовский пр-т, д. 30, Москва', 2),\n",
    "  ('Старая сцена', 'Кутузовский пр-т, д. 30, Москва', 2),\n",
    "  ('Дворец на Яузе', 'ул. Журавлёва, д. 1, Москва', 3),\n",
    "  ('Центральный дом актера', 'Арбат, д. 35, Москва', 3);\n",
    "\n",
    "INSERT INTO performances (title, stage_id, datetime, director, author) VALUES\n",
    "  ('Женщины Лазаря', 1, '2025-04-16T19:00:00', 'Алексей Бородин', 'Марина Степнова'),\n",
    "  ('Пустые поезда', 2, '2025-04-30T16:00:00', 'Дмитрий Данилов', 'Дмитрий Данилов'),\n",
    "  ('Чайка', 3, '2025-04-27T19:00:00', 'Петр Фоменко', 'Антон Чехов'),\n",
    "  ('Светлые души, или О том, как написать рассказ', 4, '2025-04-28T19:00:00', 'Евгений Каменькович', 'Василий Шукшин'),\n",
    "  ('Гроза', 5, '2025-04-20T19:00:00', 'Константин Райкин', 'Александр Островский'),\n",
    "  ('Дама с собачкой', 6, '2025-04-19T19:00:00', 'Константин Райкин', 'Антон Чехов');\n",
    "\n"
   ]
  },
  {
   "cell_type": "markdown",
   "id": "40a425ea",
   "metadata": {
    "papermill": {
     "duration": 0.003901,
     "end_time": "2025-04-19T18:18:33.904988",
     "exception": false,
     "start_time": "2025-04-19T18:18:33.901087",
     "status": "completed"
    },
    "tags": []
   },
   "source": [
    "## Define database functions\n"
   ]
  },
  {
   "cell_type": "code",
   "execution_count": 8,
   "id": "4695cb9b",
   "metadata": {
    "execution": {
     "iopub.execute_input": "2025-04-19T18:18:33.914000Z",
     "iopub.status.busy": "2025-04-19T18:18:33.913639Z",
     "iopub.status.idle": "2025-04-19T18:18:33.922255Z",
     "shell.execute_reply": "2025-04-19T18:18:33.921486Z"
    },
    "papermill": {
     "duration": 0.014726,
     "end_time": "2025-04-19T18:18:33.923485",
     "exception": false,
     "start_time": "2025-04-19T18:18:33.908759",
     "status": "completed"
    },
    "tags": []
   },
   "outputs": [
    {
     "name": "stdout",
     "output_type": "stream",
     "text": [
      " - DB CALL: list_tables()\n"
     ]
    },
    {
     "data": {
      "text/plain": [
       "['theaters', 'sqlite_sequence', 'stages', 'performances']"
      ]
     },
     "execution_count": 8,
     "metadata": {},
     "output_type": "execute_result"
    }
   ],
   "source": [
    "def list_tables() -> list[str]:\n",
    "    \"\"\"Retrieve the names of all tables in the database.\"\"\"\n",
    "    # Include print logging statements so you can see when functions are being called.\n",
    "    print(' - DB CALL: list_tables()')\n",
    "\n",
    "    cursor = db_conn.cursor()\n",
    "\n",
    "    # Fetch the table names.\n",
    "    cursor.execute(\"SELECT name FROM sqlite_master WHERE type='table';\")\n",
    "\n",
    "    tables = cursor.fetchall()\n",
    "    return [t[0] for t in tables]\n",
    "\n",
    "\n",
    "list_tables()"
   ]
  },
  {
   "cell_type": "code",
   "execution_count": 9,
   "id": "f0170283",
   "metadata": {
    "execution": {
     "iopub.execute_input": "2025-04-19T18:18:33.932191Z",
     "iopub.status.busy": "2025-04-19T18:18:33.931900Z",
     "iopub.status.idle": "2025-04-19T18:18:33.943777Z",
     "shell.execute_reply": "2025-04-19T18:18:33.942388Z"
    },
    "papermill": {
     "duration": 0.018045,
     "end_time": "2025-04-19T18:18:33.945438",
     "exception": false,
     "start_time": "2025-04-19T18:18:33.927393",
     "status": "completed"
    },
    "tags": []
   },
   "outputs": [
    {
     "name": "stdout",
     "output_type": "stream",
     "text": [
      " - DB CALL: list_tables()\n",
      " - DB CALL: describe_table(theaters)\n",
      " - DB CALL: describe_table(sqlite_sequence)\n",
      " - DB CALL: describe_table(stages)\n",
      " - DB CALL: describe_table(performances)\n"
     ]
    },
    {
     "data": {
      "text/plain": [
       "[[('theater_id', 'INTEGER'), ('name', 'TEXT'), ('acronym', 'TEXT')],\n",
       " [('name', ''), ('seq', '')],\n",
       " [('stage_id', 'INTEGER'),\n",
       "  ('name', 'TEXT'),\n",
       "  ('address', 'TEXT'),\n",
       "  ('theater_id', 'INTEGER')],\n",
       " [('performance_id', 'INTEGER'),\n",
       "  ('title', 'TEXT'),\n",
       "  ('stage_id', 'INTEGER'),\n",
       "  ('datetime', 'TEXT'),\n",
       "  ('director', 'TEXT'),\n",
       "  ('author', 'TEXT')]]"
      ]
     },
     "execution_count": 9,
     "metadata": {},
     "output_type": "execute_result"
    }
   ],
   "source": [
    "def describe_table(table_name: str) -> list[tuple[str, str]]:\n",
    "    \"\"\"Look up the table schema.\n",
    "\n",
    "    Returns:\n",
    "      List of columns, where each entry is a tuple of (column, type).\n",
    "    \"\"\"\n",
    "    print(f' - DB CALL: describe_table({table_name})')\n",
    "\n",
    "    cursor = db_conn.cursor()\n",
    "\n",
    "    cursor.execute(f\"PRAGMA table_info({table_name});\")\n",
    "\n",
    "    schema = cursor.fetchall()\n",
    "    # [column index, column name, column type, ...]\n",
    "    return [(col[1], col[2]) for col in schema]\n",
    "\n",
    "\n",
    "[describe_table(table) for table in list_tables()]"
   ]
  },
  {
   "cell_type": "code",
   "execution_count": 10,
   "id": "51d79a7a",
   "metadata": {
    "execution": {
     "iopub.execute_input": "2025-04-19T18:18:33.956788Z",
     "iopub.status.busy": "2025-04-19T18:18:33.956439Z",
     "iopub.status.idle": "2025-04-19T18:18:33.965458Z",
     "shell.execute_reply": "2025-04-19T18:18:33.964574Z"
    },
    "papermill": {
     "duration": 0.016975,
     "end_time": "2025-04-19T18:18:33.966877",
     "exception": false,
     "start_time": "2025-04-19T18:18:33.949902",
     "status": "completed"
    },
    "tags": []
   },
   "outputs": [
    {
     "name": "stdout",
     "output_type": "stream",
     "text": [
      " - DB CALL: execute_query(select * from performances limit 3)\n"
     ]
    },
    {
     "data": {
      "text/plain": [
       "[(1,\n",
       "  'Женщины Лазаря',\n",
       "  1,\n",
       "  '2025-04-16T19:00:00',\n",
       "  'Алексей Бородин',\n",
       "  'Марина Степнова'),\n",
       " (2,\n",
       "  'Пустые поезда',\n",
       "  2,\n",
       "  '2025-04-30T16:00:00',\n",
       "  'Дмитрий Данилов',\n",
       "  'Дмитрий Данилов'),\n",
       " (3, 'Чайка', 3, '2025-04-27T19:00:00', 'Петр Фоменко', 'Антон Чехов')]"
      ]
     },
     "execution_count": 10,
     "metadata": {},
     "output_type": "execute_result"
    }
   ],
   "source": [
    "def execute_query(sql: str) -> list[list[str]]:\n",
    "    \"\"\"Execute an SQL statement, returning the results.\"\"\"\n",
    "    print(f' - DB CALL: execute_query({sql})')\n",
    "\n",
    "    cursor = db_conn.cursor()\n",
    "\n",
    "    cursor.execute(sql)\n",
    "    return cursor.fetchall()\n",
    "\n",
    "\n",
    "execute_query(\"select * from performances limit 3\")"
   ]
  },
  {
   "cell_type": "code",
   "execution_count": 11,
   "id": "60f33a80",
   "metadata": {
    "execution": {
     "iopub.execute_input": "2025-04-19T18:18:33.977014Z",
     "iopub.status.busy": "2025-04-19T18:18:33.976532Z",
     "iopub.status.idle": "2025-04-19T18:18:33.988164Z",
     "shell.execute_reply": "2025-04-19T18:18:33.985591Z"
    },
    "papermill": {
     "duration": 0.018636,
     "end_time": "2025-04-19T18:18:33.989934",
     "exception": false,
     "start_time": "2025-04-19T18:18:33.971298",
     "status": "completed"
    },
    "tags": []
   },
   "outputs": [
    {
     "name": "stdout",
     "output_type": "stream",
     "text": [
      " - DB CALL: execute_query(select name from theaters)\n"
     ]
    },
    {
     "data": {
      "text/plain": [
       "[('Российский академический молодежный театр',),\n",
       " ('Мастерская Петра Фоменко',),\n",
       " ('Театр Сатирикон имени Аркадия Райкина',)]"
      ]
     },
     "execution_count": 11,
     "metadata": {},
     "output_type": "execute_result"
    }
   ],
   "source": [
    "def get_available_values(table_name: str, field_name: str) -> list[list[str]]:\n",
    "    \"\"\"Execute an SQL statement, returning the results.\"\"\"\n",
    "    sql = f\"select {field_name} from {table_name}\"\n",
    "    print(f' - DB CALL: execute_query({sql})')\n",
    "\n",
    "    cursor = db_conn.cursor()\n",
    "\n",
    "    cursor.execute(sql)\n",
    "    return cursor.fetchall()\n",
    "\n",
    "\n",
    "get_available_values(table_name=\"theaters\", field_name=\"name\")"
   ]
  },
  {
   "cell_type": "code",
   "execution_count": 12,
   "id": "df65f519",
   "metadata": {
    "execution": {
     "iopub.execute_input": "2025-04-19T18:18:34.002101Z",
     "iopub.status.busy": "2025-04-19T18:18:34.001784Z",
     "iopub.status.idle": "2025-04-19T18:18:34.422901Z",
     "shell.execute_reply": "2025-04-19T18:18:34.421795Z"
    },
    "papermill": {
     "duration": 0.429839,
     "end_time": "2025-04-19T18:18:34.424543",
     "exception": false,
     "start_time": "2025-04-19T18:18:33.994704",
     "status": "completed"
    },
    "tags": []
   },
   "outputs": [],
   "source": [
    "# These are the Python functions defined above.\n",
    "db_tools = [list_tables, describe_table, execute_query, get_available_values]\n",
    "\n",
    "instruction = \"\"\"You are a helpful chatbot that can interact with an SQL database\n",
    "for theater playbills. You will take the users questions and turn them into SQL\n",
    "queries using the tools available. Once you have the information you need, you will\n",
    "answer the user's question using the data returned.\n",
    "\n",
    "Use list_tables to see what tables are present, describe_table to understand the\n",
    "schema, get_available_values to get values in the specific field of a table and\n",
    "execute_query to issue an SQL SELECT query. Usually, you need to execute functions\n",
    "in the specified order. Always check what are the valid values for the fields that you're gonna query\n",
    "\n",
    "Example: \n",
    "    Question: \n",
    "        Спектакли в РАМТе после 17 апреля под авторством Данилова\n",
    "    Your actions:\n",
    "        1. list_tables() to get available tables: 'theaters', 'stages', 'performances'\n",
    "        2. describe_table(performances) to get fields of performance table\"\n",
    "        3. describe_table(theaters) to get fields of theaters table\n",
    "        4. describe_table(stages) to get fields of stages table\n",
    "        5. get_available_values(table_name=\"performances\", field_name=\"author\") to get list of authors and find value for \"Данилов\"\n",
    "        6. get_available_values(table_name=\"theaters\", field_name=\"name\") to get list of names and find value for \"РАМТ\"\n",
    "        7. execute_query(...) to get appropriate result\n",
    "\"\"\"\n",
    "\n",
    "client = genai.Client(api_key=GOOGLE_API_KEY)\n",
    "\n",
    "# Start a chat with automatic function calling enabled.\n",
    "chat = client.chats.create(\n",
    "    model=\"gemini-2.0-flash\",\n",
    "    config=types.GenerateContentConfig(\n",
    "        system_instruction=instruction,\n",
    "        tools=db_tools,\n",
    "    ),\n",
    ")"
   ]
  },
  {
   "cell_type": "code",
   "execution_count": 13,
   "id": "a0f03732",
   "metadata": {
    "execution": {
     "iopub.execute_input": "2025-04-19T18:18:34.435419Z",
     "iopub.status.busy": "2025-04-19T18:18:34.435131Z",
     "iopub.status.idle": "2025-04-19T18:18:39.482532Z",
     "shell.execute_reply": "2025-04-19T18:18:39.481436Z"
    },
    "papermill": {
     "duration": 5.054629,
     "end_time": "2025-04-19T18:18:39.484410",
     "exception": false,
     "start_time": "2025-04-19T18:18:34.429781",
     "status": "completed"
    },
    "tags": []
   },
   "outputs": [
    {
     "name": "stdout",
     "output_type": "stream",
     "text": [
      " - DB CALL: list_tables()\n",
      " - DB CALL: describe_table(performances)\n",
      " - DB CALL: describe_table(theaters)\n",
      " - DB CALL: describe_table(stages)\n",
      " - DB CALL: execute_query(select author from performances)\n",
      " - DB CALL: execute_query(select name from theaters)\n",
      " - DB CALL: execute_query(SELECT T1.title FROM performances AS T1 JOIN stages AS T2 ON T1.stage_id = T2.stage_id JOIN theaters AS T3 ON T2.theater_id = T3.theater_id WHERE T3.name = 'Российский академический молодежный театр' AND T1.author = 'Дмитрий Данилов' AND T1.datetime LIKE '2025-04%';)\n",
      "\n",
      "В апреле 2025 года в РАМТе идет спектакль Данилова \"Пустые поезда\".\n"
     ]
    }
   ],
   "source": [
    "response = chat.send_message('Спектакли Данилова в РАМТЕ в апреле 2025')\n",
    "print(f\"\\n{response.text}\")"
   ]
  },
  {
   "cell_type": "markdown",
   "id": "a2428570",
   "metadata": {
    "papermill": {
     "duration": 0.004333,
     "end_time": "2025-04-19T18:18:39.493980",
     "exception": false,
     "start_time": "2025-04-19T18:18:39.489647",
     "status": "completed"
    },
    "tags": []
   },
   "source": [
    "It's possible to extract the created SQL query to use it in a more traditional way (e.g. to show the user the table with all options). This is also useful to check that there are no hallucinations in the output."
   ]
  },
  {
   "cell_type": "code",
   "execution_count": 14,
   "id": "92eec56c",
   "metadata": {
    "execution": {
     "iopub.execute_input": "2025-04-19T18:18:39.503645Z",
     "iopub.status.busy": "2025-04-19T18:18:39.503367Z",
     "iopub.status.idle": "2025-04-19T18:18:39.510254Z",
     "shell.execute_reply": "2025-04-19T18:18:39.509148Z"
    },
    "papermill": {
     "duration": 0.013715,
     "end_time": "2025-04-19T18:18:39.512092",
     "exception": false,
     "start_time": "2025-04-19T18:18:39.498377",
     "status": "completed"
    },
    "tags": []
   },
   "outputs": [
    {
     "data": {
      "text/plain": [
       "[\"SELECT T1.title FROM performances AS T1 JOIN stages AS T2 ON T1.stage_id = T2.stage_id JOIN theaters AS T3 ON T2.theater_id = T3.theater_id WHERE T3.name = 'Российский академический молодежный театр' AND T1.author = 'Дмитрий Данилов' AND T1.datetime LIKE '2025-04%';\"]"
      ]
     },
     "execution_count": 14,
     "metadata": {},
     "output_type": "execute_result"
    }
   ],
   "source": [
    "def get_sql_queries(chat):\n",
    "    \"\"\"Get all SQL queries in the chat history.\"\"\"\n",
    "    sql_queries = []\n",
    "    for event in chat.get_history():\n",
    "        if function_call := event.parts[0].function_call:\n",
    "            if sql_arg := function_call.args.get('sql'):\n",
    "                sql_queries.append(sql_arg)\n",
    "    return sql_queries\n",
    "\n",
    "get_sql_queries(chat)"
   ]
  },
  {
   "cell_type": "markdown",
   "id": "4bf71828",
   "metadata": {
    "papermill": {
     "duration": 0.004178,
     "end_time": "2025-04-19T18:18:39.521288",
     "exception": false,
     "start_time": "2025-04-19T18:18:39.517110",
     "status": "completed"
    },
    "tags": []
   },
   "source": [
    "## Getting reviews using Google search grounding (in development)"
   ]
  },
  {
   "cell_type": "code",
   "execution_count": 15,
   "id": "99d75a01",
   "metadata": {
    "execution": {
     "iopub.execute_input": "2025-04-19T18:18:39.531315Z",
     "iopub.status.busy": "2025-04-19T18:18:39.531019Z",
     "iopub.status.idle": "2025-04-19T18:18:43.205855Z",
     "shell.execute_reply": "2025-04-19T18:18:43.204725Z"
    },
    "papermill": {
     "duration": 3.681885,
     "end_time": "2025-04-19T18:18:43.207496",
     "exception": false,
     "start_time": "2025-04-19T18:18:39.525611",
     "status": "completed"
    },
    "tags": []
   },
   "outputs": [
    {
     "data": {
      "text/markdown": [
       "Вот некоторые отзывы о спектакле Данилова «Пустые поезда» в РАМТе:\n",
       "\n",
       "*   «Спектакль оказался приятно неожиданным. Текст действительно абсолютно несценический. Там нет ни диалогов, ни яркого внешнего действия, ни какого бы то ни было связного сюжета. Тем не менее вышел, на мой взгляд, замечательный спектакль».\n",
       "*   «Постановка для Маленькой сцены театра основана на цикле очерков «Пустые поезда 2022 года» известного современного писателя и драматурга».\n",
       "*   «Смешанное чувство ностальгии и отвращения, ведь эти поезда славятся отнюдь не романтическими настроениями».\n",
       "*   «Каждая поездка – это приключение, большое или маленькое, «медитативный туризм», когда за окном пролетают пейзажи, восходы и закаты. Через весь сюжет звучит история потери в годы пандемии матери и каждая зарисовка служит еще одним штрихом в большой картине воспоминаний».\n",
       "*   «Поездки сопровождают разные пассажиры, контролеры, торговцы и музыканты. Мобильная сеть предательски исчезает, расписание подводит, одни ругаются, а кто-то разговаривает по видеосвязи, песни, стихи, полезные товары и даже философия – всё это часть обстановки, воссозданная игровым театром».\n",
       "*   «В закопчённое окно можно постоянно наблюдать настоящий флаг России, с тремя горизонтальными полосами – серой, чёрной и белой. Небо, деревья и снег – больше ничего».\n",
       "*   «Алексей Золотовицкий — мастер по рассыпанию комических моментов даже по самым трагическим театральным полотнам».\n",
       "*   «Потому я успела и похихикать, и поностальгировать, и посоглашаться или внутренне поспорить с философскими измышлениями, звучащими со сцены… ну, и поплакать, конечно»."
      ],
      "text/plain": [
       "<IPython.core.display.Markdown object>"
      ]
     },
     "execution_count": 15,
     "metadata": {},
     "output_type": "execute_result"
    }
   ],
   "source": [
    "from IPython.display import Markdown\n",
    "\n",
    "review_instruction = f\"\"\"Get reviews of the mentioned performance.\n",
    "Do not mention any unnecessary information, only reviews.\"\"\"\n",
    "\n",
    "chat = client.chats.create(\n",
    "    model=\"gemini-2.0-flash\",\n",
    "    config=types.GenerateContentConfig(\n",
    "        system_instruction=review_instruction,\n",
    "        tools=[types.Tool(google_search=types.GoogleSearch())],\n",
    "    ),\n",
    ")\n",
    "\n",
    "\n",
    "review_response = chat.send_message(response.text)\n",
    "rc = review_response.candidates[0]\n",
    "Markdown(rc.content.parts[0].text)"
   ]
  }
 ],
 "metadata": {
  "kaggle": {
   "accelerator": "none",
   "dataSources": [],
   "dockerImageVersionId": 31012,
   "isGpuEnabled": false,
   "isInternetEnabled": true,
   "language": "python",
   "sourceType": "notebook"
  },
  "kernelspec": {
   "display_name": "Python 3",
   "language": "python",
   "name": "python3"
  },
  "language_info": {
   "codemirror_mode": {
    "name": "ipython",
    "version": 3
   },
   "file_extension": ".py",
   "mimetype": "text/x-python",
   "name": "python",
   "nbconvert_exporter": "python",
   "pygments_lexer": "ipython3",
   "version": "3.11.11"
  },
  "papermill": {
   "default_parameters": {},
   "duration": 29.793159,
   "end_time": "2025-04-19T18:18:44.438740",
   "environment_variables": {},
   "exception": null,
   "input_path": "__notebook__.ipynb",
   "output_path": "__notebook__.ipynb",
   "parameters": {},
   "start_time": "2025-04-19T18:18:14.645581",
   "version": "2.6.0"
  }
 },
 "nbformat": 4,
 "nbformat_minor": 5
}
