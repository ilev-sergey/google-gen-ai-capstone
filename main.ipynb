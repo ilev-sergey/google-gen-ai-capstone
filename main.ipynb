{
 "cells": [
  {
   "cell_type": "markdown",
   "id": "8cf13e5b",
   "metadata": {
    "papermill": {
     "duration": 0.004558,
     "end_time": "2025-04-19T15:00:42.135671",
     "exception": false,
     "start_time": "2025-04-19T15:00:42.131113",
     "status": "completed"
    },
    "tags": []
   },
   "source": [
    "# Use Case\n",
    "\n",
    "Gen AI model (Gemini 2.0 flash) is used as a part of the service for aggregation of theatre playbills.\n",
    "\n",
    "## Problem\n",
    "\n",
    "There are a lot of theatres in Moscow and tracking premieres in all of them is a unpleasant task. Despite there are aggregation services that collect this info, they are mostly uncomfortable for users as they don't have different filters, such as choosing location, specific play or stage director. Moreover, crawling through a variety of filters is also time-consuming and discouraging for users.\n",
    "\n",
    "## Solution\n",
    "\n",
    "The provided solution allows to transform arbitrary user input into an appropriate SQL-query and then return the response basing on the data in the database. Currently only text is supported, but it's possible to extend it to voice input as well.\n",
    "\n",
    "## Example\n",
    "\n",
    "E.g. user asks: \"Plays for the coming month by Shakespeare, Williams or Chekhov\" that is transformed into \"SELECT\"…\n",
    "\n",
    "# Gen AI Capabilities\n",
    "\n",
    "The project combines such AI capabilities as\n",
    "- Structured output (SQL-query)\n",
    "- Few-show prompting\n",
    "- Grounding (for showing reviews) …\n",
    "\n",
    "# Future\n",
    "\n",
    "The developed solution will be used in conjunction with developing [API for theatres](link) as a part of [aggregation service](link) deployed both as a web-application and as telegram bot"
   ]
  },
  {
   "cell_type": "markdown",
   "id": "463dada0",
   "metadata": {
    "papermill": {
     "duration": 0.00374,
     "end_time": "2025-04-19T15:00:42.143365",
     "exception": false,
     "start_time": "2025-04-19T15:00:42.139625",
     "status": "completed"
    },
    "tags": []
   },
   "source": [
    "# Implementation\n",
    "## Setup\n",
    "\n",
    "Start by installing and importing the Python SDK."
   ]
  },
  {
   "cell_type": "code",
   "execution_count": 1,
   "id": "faf0c527",
   "metadata": {
    "_cell_guid": "b1076dfc-b9ad-4769-8c92-a6c4dae69d19",
    "_uuid": "8f2839f25d086af736a60e9eeb907d3b93b6e0e5",
    "execution": {
     "iopub.execute_input": "2025-04-19T15:00:42.152467Z",
     "iopub.status.busy": "2025-04-19T15:00:42.152003Z",
     "iopub.status.idle": "2025-04-19T15:00:51.034794Z",
     "shell.execute_reply": "2025-04-19T15:00:51.033693Z"
    },
    "papermill": {
     "duration": 8.889298,
     "end_time": "2025-04-19T15:00:51.036527",
     "exception": false,
     "start_time": "2025-04-19T15:00:42.147229",
     "status": "completed"
    },
    "tags": []
   },
   "outputs": [
    {
     "name": "stdout",
     "output_type": "stream",
     "text": [
      "\u001b[2K   \u001b[90m━━━━━━━━━━━━━━━━━━━━━━━━━━━━━━━━━━━━━━━━\u001b[0m \u001b[32m144.7/144.7 kB\u001b[0m \u001b[31m7.9 MB/s\u001b[0m eta \u001b[36m0:00:00\u001b[0m\r\n",
      "\u001b[2K   \u001b[90m━━━━━━━━━━━━━━━━━━━━━━━━━━━━━━━━━━━━━━━━\u001b[0m \u001b[32m100.9/100.9 kB\u001b[0m \u001b[31m5.6 MB/s\u001b[0m eta \u001b[36m0:00:00\u001b[0m\r\n",
      "\u001b[?25h\u001b[31mERROR: pip's dependency resolver does not currently take into account all the packages that are installed. This behaviour is the source of the following dependency conflicts.\r\n",
      "jupyterlab-lsp 3.10.2 requires jupyterlab<4.0.0a0,>=3.1.0, which is not installed.\u001b[0m\u001b[31m\r\n",
      "\u001b[0m"
     ]
    }
   ],
   "source": [
    "!pip uninstall -qqy jupyterlab  # Remove unused conflicting packages\n",
    "!pip install -U -q \"google-genai==1.7.0\""
   ]
  },
  {
   "cell_type": "code",
   "execution_count": 2,
   "id": "35f745c8",
   "metadata": {
    "execution": {
     "iopub.execute_input": "2025-04-19T15:00:51.046443Z",
     "iopub.status.busy": "2025-04-19T15:00:51.046109Z",
     "iopub.status.idle": "2025-04-19T15:00:52.336240Z",
     "shell.execute_reply": "2025-04-19T15:00:52.335293Z"
    },
    "papermill": {
     "duration": 1.297102,
     "end_time": "2025-04-19T15:00:52.337855",
     "exception": false,
     "start_time": "2025-04-19T15:00:51.040753",
     "status": "completed"
    },
    "tags": []
   },
   "outputs": [
    {
     "data": {
      "text/plain": [
       "'1.7.0'"
      ]
     },
     "execution_count": 2,
     "metadata": {},
     "output_type": "execute_result"
    }
   ],
   "source": [
    "from google import genai\n",
    "from google.genai import types\n",
    "\n",
    "genai.__version__"
   ]
  },
  {
   "cell_type": "markdown",
   "id": "a8f5e910",
   "metadata": {
    "papermill": {
     "duration": 0.00371,
     "end_time": "2025-04-19T15:00:52.345807",
     "exception": false,
     "start_time": "2025-04-19T15:00:52.342097",
     "status": "completed"
    },
    "tags": []
   },
   "source": [
    "### Set up your API key\n",
    "\n",
    "To run the following cell, your API key must be stored it in a [Kaggle secret](https://www.kaggle.com/discussions/product-feedback/114053) named `GOOGLE_API_KEY`.\n",
    "\n",
    "If you don't already have an API key, you can grab one from [AI Studio](https://aistudio.google.com/app/apikey). You can find [detailed instructions in the docs](https://ai.google.dev/gemini-api/docs/api-key).\n",
    "\n",
    "To make the key available through Kaggle secrets, choose `Secrets` from the `Add-ons` menu and follow the instructions to add your key or enable it for this notebook."
   ]
  },
  {
   "cell_type": "code",
   "execution_count": 3,
   "id": "b44c2215",
   "metadata": {
    "execution": {
     "iopub.execute_input": "2025-04-19T15:00:52.355219Z",
     "iopub.status.busy": "2025-04-19T15:00:52.354694Z",
     "iopub.status.idle": "2025-04-19T15:00:52.547775Z",
     "shell.execute_reply": "2025-04-19T15:00:52.546754Z"
    },
    "papermill": {
     "duration": 0.200006,
     "end_time": "2025-04-19T15:00:52.549733",
     "exception": false,
     "start_time": "2025-04-19T15:00:52.349727",
     "status": "completed"
    },
    "tags": []
   },
   "outputs": [],
   "source": [
    "from kaggle_secrets import UserSecretsClient\n",
    "\n",
    "GOOGLE_API_KEY = UserSecretsClient().get_secret(\"GOOGLE_API_KEY\")"
   ]
  },
  {
   "cell_type": "markdown",
   "id": "9d9282c3",
   "metadata": {
    "papermill": {
     "duration": 0.003857,
     "end_time": "2025-04-19T15:00:52.557842",
     "exception": false,
     "start_time": "2025-04-19T15:00:52.553985",
     "status": "completed"
    },
    "tags": []
   },
   "source": [
    "If you received an error response along the lines of `No user secrets exist for kernel id ...`, then you need to add your API key via `Add-ons`, `Secrets` **and** enable it.\n",
    "\n",
    "![Screenshot of the checkbox to enable GOOGLE_API_KEY secret](https://storage.googleapis.com/kaggle-media/Images/5gdai_sc_3.png)"
   ]
  },
  {
   "cell_type": "markdown",
   "id": "6b3fb8c7",
   "metadata": {
    "papermill": {
     "duration": 0.003938,
     "end_time": "2025-04-19T15:00:52.565918",
     "exception": false,
     "start_time": "2025-04-19T15:00:52.561980",
     "status": "completed"
    },
    "tags": []
   },
   "source": [
    "### Automated retry"
   ]
  },
  {
   "cell_type": "code",
   "execution_count": 4,
   "id": "6a46c664",
   "metadata": {
    "execution": {
     "iopub.execute_input": "2025-04-19T15:00:52.575911Z",
     "iopub.status.busy": "2025-04-19T15:00:52.574984Z",
     "iopub.status.idle": "2025-04-19T15:00:52.953459Z",
     "shell.execute_reply": "2025-04-19T15:00:52.952463Z"
    },
    "papermill": {
     "duration": 0.385192,
     "end_time": "2025-04-19T15:00:52.955164",
     "exception": false,
     "start_time": "2025-04-19T15:00:52.569972",
     "status": "completed"
    },
    "tags": []
   },
   "outputs": [],
   "source": [
    "# Define a retry policy. The model might make multiple consecutive calls automatically\n",
    "# for a complex query, this ensures the client retries if it hits quota limits.\n",
    "from google.api_core import retry\n",
    "\n",
    "is_retriable = lambda e: (isinstance(e, genai.errors.APIError) and e.code in {429, 503})\n",
    "\n",
    "if not hasattr(genai.models.Models.generate_content, '__wrapped__'):\n",
    "  genai.models.Models.generate_content = retry.Retry(\n",
    "      predicate=is_retriable)(genai.models.Models.generate_content)"
   ]
  },
  {
   "cell_type": "markdown",
   "id": "a09f80a1",
   "metadata": {
    "papermill": {
     "duration": 0.003903,
     "end_time": "2025-04-19T15:00:52.963245",
     "exception": false,
     "start_time": "2025-04-19T15:00:52.959342",
     "status": "completed"
    },
    "tags": []
   },
   "source": [
    "## Create a local database\n",
    "\n",
    "For this minimal example, you'll create a local SQLite database and add some synthetic data so you have something to query.\n",
    "\n",
    "Load the `sql` IPython extension so you can interact with the database using magic commands (the `%` instructions) to create a new, empty SQLite database."
   ]
  },
  {
   "cell_type": "code",
   "execution_count": 5,
   "id": "764cd4c0",
   "metadata": {
    "execution": {
     "iopub.execute_input": "2025-04-19T15:00:52.972637Z",
     "iopub.status.busy": "2025-04-19T15:00:52.972154Z",
     "iopub.status.idle": "2025-04-19T15:00:55.803571Z",
     "shell.execute_reply": "2025-04-19T15:00:55.802755Z"
    },
    "papermill": {
     "duration": 2.837834,
     "end_time": "2025-04-19T15:00:55.805091",
     "exception": false,
     "start_time": "2025-04-19T15:00:52.967257",
     "status": "completed"
    },
    "tags": []
   },
   "outputs": [],
   "source": [
    "TEST_MODE = False  # Set to False if you want to persist\n",
    "\n",
    "%load_ext sql\n",
    "if TEST_MODE:\n",
    "    %sql sqlite:///:memory:\n",
    "else:\n",
    "    %sql sqlite:///sample1.db"
   ]
  },
  {
   "cell_type": "markdown",
   "id": "43e48d88",
   "metadata": {
    "papermill": {
     "duration": 0.003899,
     "end_time": "2025-04-19T15:00:55.813242",
     "exception": false,
     "start_time": "2025-04-19T15:00:55.809343",
     "status": "completed"
    },
    "tags": []
   },
   "source": [
    "Create the tables and insert some synthetic data. Feel free to tweak this structure and data."
   ]
  },
  {
   "cell_type": "code",
   "execution_count": 6,
   "id": "736f9697",
   "metadata": {
    "execution": {
     "iopub.execute_input": "2025-04-19T15:00:55.823051Z",
     "iopub.status.busy": "2025-04-19T15:00:55.821957Z",
     "iopub.status.idle": "2025-04-19T15:00:55.828385Z",
     "shell.execute_reply": "2025-04-19T15:00:55.827084Z"
    },
    "papermill": {
     "duration": 0.013038,
     "end_time": "2025-04-19T15:00:55.830197",
     "exception": false,
     "start_time": "2025-04-19T15:00:55.817159",
     "status": "completed"
    },
    "tags": []
   },
   "outputs": [],
   "source": [
    "import sqlite3\n",
    "\n",
    "if TEST_MODE:\n",
    "    db_conn = sqlite3.connect(':memory:')  # In-memory for testing\n",
    "else:\n",
    "    db_file = \"sample1.db\"\n",
    "    db_conn = sqlite3.connect(db_file)     # Persistent on disk"
   ]
  },
  {
   "cell_type": "code",
   "execution_count": 7,
   "id": "06a521bc",
   "metadata": {
    "execution": {
     "iopub.execute_input": "2025-04-19T15:00:55.841539Z",
     "iopub.status.busy": "2025-04-19T15:00:55.840742Z",
     "iopub.status.idle": "2025-04-19T15:00:55.893575Z",
     "shell.execute_reply": "2025-04-19T15:00:55.892645Z"
    },
    "papermill": {
     "duration": 0.059337,
     "end_time": "2025-04-19T15:00:55.895007",
     "exception": false,
     "start_time": "2025-04-19T15:00:55.835670",
     "status": "completed"
    },
    "tags": []
   },
   "outputs": [
    {
     "name": "stdout",
     "output_type": "stream",
     "text": [
      " * sqlite:///sample1.db\n",
      "Done.\n",
      "Done.\n",
      "Done.\n"
     ]
    },
    {
     "data": {
      "text/plain": [
       "[]"
      ]
     },
     "execution_count": 7,
     "metadata": {},
     "output_type": "execute_result"
    }
   ],
   "source": [
    "%%sql\n",
    "CREATE TABLE theaters (\n",
    "    theater_id INTEGER PRIMARY KEY AUTOINCREMENT,\n",
    "    name TEXT NOT NULL,\n",
    "    acronym TEXT\n",
    ");\n",
    "\n",
    "CREATE TABLE stages (\n",
    "    stage_id INTEGER PRIMARY KEY AUTOINCREMENT,\n",
    "    name TEXT NOT NULL,\n",
    "    address TEXT,\n",
    "    theater_id INTEGER,\n",
    "    FOREIGN KEY (theater_id) REFERENCES theaters(theater_id)\n",
    ");\n",
    "\n",
    "CREATE TABLE performances (\n",
    "    performance_id INTEGER PRIMARY KEY AUTOINCREMENT,\n",
    "    title TEXT NOT NULL,\n",
    "    stage_id INTEGER,\n",
    "    datetime TEXT NOT NULL,\n",
    "    director TEXT,\n",
    "    author TEXT,\n",
    "    FOREIGN KEY (stage_id) REFERENCES stages(stage_id)\n",
    ");\n"
   ]
  },
  {
   "cell_type": "code",
   "execution_count": 8,
   "id": "c76f0b93",
   "metadata": {
    "execution": {
     "iopub.execute_input": "2025-04-19T15:00:55.905146Z",
     "iopub.status.busy": "2025-04-19T15:00:55.904836Z",
     "iopub.status.idle": "2025-04-19T15:00:55.945751Z",
     "shell.execute_reply": "2025-04-19T15:00:55.944737Z"
    },
    "papermill": {
     "duration": 0.047901,
     "end_time": "2025-04-19T15:00:55.947314",
     "exception": false,
     "start_time": "2025-04-19T15:00:55.899413",
     "status": "completed"
    },
    "tags": []
   },
   "outputs": [
    {
     "name": "stdout",
     "output_type": "stream",
     "text": [
      " * sqlite:///sample1.db\n",
      "3 rows affected.\n",
      "6 rows affected.\n",
      "6 rows affected.\n"
     ]
    },
    {
     "data": {
      "text/plain": [
       "[]"
      ]
     },
     "execution_count": 8,
     "metadata": {},
     "output_type": "execute_result"
    }
   ],
   "source": [
    "%%sql\n",
    "INSERT INTO theaters (name, acronym) VALUES\n",
    "  ('Российский академический молодежный театр', 'РАМТ'),\n",
    "  ('Мастерская Петра Фоменко', 'Фоменко'),\n",
    "  ('Театр Сатирикон имени Аркадия Райкина', 'Сатирикон');\n",
    "\n",
    "INSERT INTO stages (name, address, theater_id) VALUES\n",
    "  ('Большая сцена', 'Театральная пл., д. 2, Москва', 1),\n",
    "  ('Маленькая сцена', 'Театральная пл., д. 2, Москва', 1),\n",
    "  ('Новая сцена', 'Кутузовский пр-т, д. 30, Москва', 2),\n",
    "  ('Старая сцена', 'Кутузовский пр-т, д. 30, Москва', 2),\n",
    "  ('Дворец на Яузе', 'ул. Журавлёва, д. 1, Москва', 3),\n",
    "  ('Центральный дом актера', 'Арбат, д. 35, Москва', 3);\n",
    "\n",
    "INSERT INTO performances (title, stage_id, datetime, director, author) VALUES\n",
    "  ('Женщины Лазаря', 1, '2025-04-16T19:00:00', 'Алексей Бородин', 'Марина Степнова'),\n",
    "  ('Пустые поезда', 2, '2025-04-30T16:00:00', 'Дмитрий Данилов', 'Дмитрий Данилов'),\n",
    "  ('Чайка', 3, '2025-04-27T19:00:00', 'Петр Фоменко', 'Антон Чехов'),\n",
    "  ('Светлые души, или О том, как написать рассказ', 4, '2025-04-28T19:00:00', 'Евгений Каменькович', 'Василий Шукшин'),\n",
    "  ('Гроза', 5, '2025-04-20T19:00:00', 'Константин Райкин', 'Александр Островский'),\n",
    "  ('Дама с собачкой', 6, '2025-04-19T19:00:00', 'Константин Райкин', 'Антон Чехов');\n",
    "\n"
   ]
  },
  {
   "cell_type": "markdown",
   "id": "c45d9171",
   "metadata": {
    "papermill": {
     "duration": 0.004104,
     "end_time": "2025-04-19T15:00:55.955922",
     "exception": false,
     "start_time": "2025-04-19T15:00:55.951818",
     "status": "completed"
    },
    "tags": []
   },
   "source": [
    "## Define database functions\n"
   ]
  },
  {
   "cell_type": "code",
   "execution_count": 9,
   "id": "cadfa55a",
   "metadata": {
    "execution": {
     "iopub.execute_input": "2025-04-19T15:00:55.966163Z",
     "iopub.status.busy": "2025-04-19T15:00:55.965864Z",
     "iopub.status.idle": "2025-04-19T15:00:55.974327Z",
     "shell.execute_reply": "2025-04-19T15:00:55.973595Z"
    },
    "papermill": {
     "duration": 0.015493,
     "end_time": "2025-04-19T15:00:55.975740",
     "exception": false,
     "start_time": "2025-04-19T15:00:55.960247",
     "status": "completed"
    },
    "tags": []
   },
   "outputs": [
    {
     "name": "stdout",
     "output_type": "stream",
     "text": [
      " - DB CALL: list_tables()\n"
     ]
    },
    {
     "data": {
      "text/plain": [
       "['theaters', 'sqlite_sequence', 'stages', 'performances']"
      ]
     },
     "execution_count": 9,
     "metadata": {},
     "output_type": "execute_result"
    }
   ],
   "source": [
    "def list_tables() -> list[str]:\n",
    "    \"\"\"Retrieve the names of all tables in the database.\"\"\"\n",
    "    # Include print logging statements so you can see when functions are being called.\n",
    "    print(' - DB CALL: list_tables()')\n",
    "\n",
    "    cursor = db_conn.cursor()\n",
    "\n",
    "    # Fetch the table names.\n",
    "    cursor.execute(\"SELECT name FROM sqlite_master WHERE type='table';\")\n",
    "\n",
    "    tables = cursor.fetchall()\n",
    "    return [t[0] for t in tables]\n",
    "\n",
    "\n",
    "list_tables()"
   ]
  },
  {
   "cell_type": "code",
   "execution_count": 10,
   "id": "ef85e4d4",
   "metadata": {
    "execution": {
     "iopub.execute_input": "2025-04-19T15:00:55.986342Z",
     "iopub.status.busy": "2025-04-19T15:00:55.986036Z",
     "iopub.status.idle": "2025-04-19T15:00:55.995458Z",
     "shell.execute_reply": "2025-04-19T15:00:55.994470Z"
    },
    "papermill": {
     "duration": 0.016518,
     "end_time": "2025-04-19T15:00:55.996835",
     "exception": false,
     "start_time": "2025-04-19T15:00:55.980317",
     "status": "completed"
    },
    "tags": []
   },
   "outputs": [
    {
     "name": "stdout",
     "output_type": "stream",
     "text": [
      " - DB CALL: list_tables()\n",
      " - DB CALL: describe_table(theaters)\n",
      " - DB CALL: describe_table(sqlite_sequence)\n",
      " - DB CALL: describe_table(stages)\n",
      " - DB CALL: describe_table(performances)\n"
     ]
    },
    {
     "data": {
      "text/plain": [
       "[[('theater_id', 'INTEGER'), ('name', 'TEXT'), ('acronym', 'TEXT')],\n",
       " [('name', ''), ('seq', '')],\n",
       " [('stage_id', 'INTEGER'),\n",
       "  ('name', 'TEXT'),\n",
       "  ('address', 'TEXT'),\n",
       "  ('theater_id', 'INTEGER')],\n",
       " [('performance_id', 'INTEGER'),\n",
       "  ('title', 'TEXT'),\n",
       "  ('stage_id', 'INTEGER'),\n",
       "  ('datetime', 'TEXT'),\n",
       "  ('director', 'TEXT'),\n",
       "  ('author', 'TEXT')]]"
      ]
     },
     "execution_count": 10,
     "metadata": {},
     "output_type": "execute_result"
    }
   ],
   "source": [
    "def describe_table(table_name: str) -> list[tuple[str, str]]:\n",
    "    \"\"\"Look up the table schema.\n",
    "\n",
    "    Returns:\n",
    "      List of columns, where each entry is a tuple of (column, type).\n",
    "    \"\"\"\n",
    "    print(f' - DB CALL: describe_table({table_name})')\n",
    "\n",
    "    cursor = db_conn.cursor()\n",
    "\n",
    "    cursor.execute(f\"PRAGMA table_info({table_name});\")\n",
    "\n",
    "    schema = cursor.fetchall()\n",
    "    # [column index, column name, column type, ...]\n",
    "    return [(col[1], col[2]) for col in schema]\n",
    "\n",
    "\n",
    "[describe_table(table) for table in list_tables()]"
   ]
  },
  {
   "cell_type": "code",
   "execution_count": 11,
   "id": "9e3436ff",
   "metadata": {
    "execution": {
     "iopub.execute_input": "2025-04-19T15:00:56.008029Z",
     "iopub.status.busy": "2025-04-19T15:00:56.007710Z",
     "iopub.status.idle": "2025-04-19T15:00:56.015930Z",
     "shell.execute_reply": "2025-04-19T15:00:56.014957Z"
    },
    "papermill": {
     "duration": 0.015619,
     "end_time": "2025-04-19T15:00:56.017341",
     "exception": false,
     "start_time": "2025-04-19T15:00:56.001722",
     "status": "completed"
    },
    "tags": []
   },
   "outputs": [
    {
     "name": "stdout",
     "output_type": "stream",
     "text": [
      " - DB CALL: execute_query(select * from performances limit 3)\n"
     ]
    },
    {
     "data": {
      "text/plain": [
       "[(1,\n",
       "  'Женщины Лазаря',\n",
       "  1,\n",
       "  '2025-04-16T19:00:00',\n",
       "  'Алексей Бородин',\n",
       "  'Марина Степнова'),\n",
       " (2,\n",
       "  'Пустые поезда',\n",
       "  2,\n",
       "  '2025-04-30T16:00:00',\n",
       "  'Дмитрий Данилов',\n",
       "  'Дмитрий Данилов'),\n",
       " (3, 'Чайка', 3, '2025-04-27T19:00:00', 'Петр Фоменко', 'Антон Чехов')]"
      ]
     },
     "execution_count": 11,
     "metadata": {},
     "output_type": "execute_result"
    }
   ],
   "source": [
    "def execute_query(sql: str) -> list[list[str]]:\n",
    "    \"\"\"Execute an SQL statement, returning the results.\"\"\"\n",
    "    print(f' - DB CALL: execute_query({sql})')\n",
    "\n",
    "    cursor = db_conn.cursor()\n",
    "\n",
    "    cursor.execute(sql)\n",
    "    return cursor.fetchall()\n",
    "\n",
    "\n",
    "execute_query(\"select * from performances limit 3\")"
   ]
  }
 ],
 "metadata": {
  "kaggle": {
   "accelerator": "none",
   "dataSources": [],
   "dockerImageVersionId": 31012,
   "isGpuEnabled": false,
   "isInternetEnabled": true,
   "language": "python",
   "sourceType": "notebook"
  },
  "kernelspec": {
   "display_name": "Python 3",
   "language": "python",
   "name": "python3"
  },
  "language_info": {
   "codemirror_mode": {
    "name": "ipython",
    "version": 3
   },
   "file_extension": ".py",
   "mimetype": "text/x-python",
   "name": "python",
   "nbconvert_exporter": "python",
   "pygments_lexer": "ipython3",
   "version": "3.11.11"
  },
  "papermill": {
   "default_parameters": {},
   "duration": 19.48897,
   "end_time": "2025-04-19T15:00:56.742714",
   "environment_variables": {},
   "exception": null,
   "input_path": "__notebook__.ipynb",
   "output_path": "__notebook__.ipynb",
   "parameters": {},
   "start_time": "2025-04-19T15:00:37.253744",
   "version": "2.6.0"
  }
 },
 "nbformat": 4,
 "nbformat_minor": 5
}
